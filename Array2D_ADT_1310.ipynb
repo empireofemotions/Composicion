{
  "nbformat": 4,
  "nbformat_minor": 0,
  "metadata": {
    "colab": {
      "name": "Array2D_ADT_1310.ipynb",
      "provenance": [],
      "collapsed_sections": [],
      "authorship_tag": "ABX9TyOT/0q0XEbeOCEA2TmXJZui",
      "include_colab_link": true
    },
    "kernelspec": {
      "name": "python3",
      "display_name": "Python 3"
    },
    "language_info": {
      "name": "python"
    }
  },
  "cells": [
    {
      "cell_type": "markdown",
      "metadata": {
        "id": "view-in-github",
        "colab_type": "text"
      },
      "source": [
        "<a href=\"https://colab.research.google.com/github/empireofemotions/Composicion/blob/master/Array2D_ADT_1310.ipynb\" target=\"_parent\"><img src=\"https://colab.research.google.com/assets/colab-badge.svg\" alt=\"Open In Colab\"/></a>"
      ]
    },
    {
      "cell_type": "code",
      "metadata": {
        "id": "zkAYCAy6nTor"
      },
      "source": [
        "class Array2DADT:\n",
        "  def __init__(self, ren, col):\n",
        "    self.__data = [[0 for y in range(col)] for x in range(ren)]\n",
        "\n",
        "  def clear(self, dato):\n",
        "    self.__data = [[dato for y in range(self.get_col_size())] for x in range(self.get_row_size())]\n",
        "\n",
        "  def get_row_size(self):\n",
        "    return len(self.__data)\n",
        "\n",
        "  def get_col_size(self):\n",
        "    return len(self.__data[0])\n",
        "\n",
        "  def set_item(self, ren, col, dato):\n",
        "    self.data__[ren][col] = dato\n",
        "\n",
        "  def get_item(self, ren, col):\n",
        "    return self.__data[ren][col]\n",
        "\n",
        "  def to_string(self):\n",
        "      cadena = \"\"\n",
        "      for renglon in self.__data:\n",
        "        cadena = cadena + \"|\"\n",
        "        for dato in renglon:\n",
        "          cadena = cadena + str(dato) +\" | \"\n",
        "        cadena = cadena + \"\\n\"\n",
        "      return cadena\n",
        "\n",
        "  \n"
      ],
      "execution_count": 1,
      "outputs": []
    },
    {
      "cell_type": "code",
      "metadata": {
        "id": "o7enZ6e5oayx"
      },
      "source": [
        "a2d = Array2DADT(3, 6)\n",
        "print(f\"Renglones: {a2d.get_row_size()}\")\n",
        "print(f\"Columnas: {a2d.get_col_size()}\")\n",
        "print(a2d.to_string())\n",
        "print(\"\")\n",
        "a2d.clear(\"M\")\n",
        "print(a2d.to_string())\n",
        "\n",
        "a2d.set_item(2, 3, 'p')\n",
        "print(a2d.to_string())\n",
        "print(a2d.get_item(2, 3))"
      ],
      "execution_count": null,
      "outputs": []
    },
    {
      "cell_type": "code",
      "metadata": {
        "id": "KzV-x8NE3ytp",
        "colab": {
          "base_uri": "https://localhost:8080/",
          "height": 129
        },
        "outputId": "d4ecc544-7750-4785-ba39-7f70160ba3f7"
      },
      "source": [
        "\"\"\"\n",
        "Los datos iniciales como lo son:\n",
        "1.- Tamaño de la población (renglones y columnas)\n",
        "2.- La población inicial\n",
        "3.- El número de generaciones a simular \n",
        "\n",
        "Estarán proporcionadas por un archivo de entrada separado por comas (CSV)\n",
        "\n",
        "5\n",
        "5\n",
        "0,0,0,0,0\n",
        "0,0,0,0,0\n",
        "0,1,1,1,0\n",
        "0,0,0,0,0\n",
        "0,0,0,0,0\n",
        "10\n",
        "\"\"\"\n",
        "\n",
        "class JuegoDeLaVida:\n",
        "  def __init__(self, ruta_archivo):\n",
        "    self.rens = None\n",
        "    self.cols = None\n",
        "    self.tablero = None\n",
        "    self.generaciones = None\n",
        "    self.read_game_data(ruta_archivo)\n",
        "\n",
        "  def read_game_data (self, archivo):\n",
        "    arcivo = open(archivo, 'rt')\n",
        "    lineas = archivo.readlines()\n",
        "    for index in range(len(lineas)):\n",
        "      lineas[index] = lineas[index].strip()\n",
        "    #print(lineas)\n",
        "    self.rens = int(lineas[0])\n",
        "    self.cols = int(lineas[1])\n",
        "    self.tablero = Array2DADT(self.rens, self.cols)\n",
        "    r = 0\n",
        "    c = 0\n",
        "    print(lineas)\n",
        "    for index in range(2, 2 + self.rens, 1):\n",
        "      c = 0\n",
        "      for dato in lineas[index].split(','):\n",
        "        self.tablero.set_item(r, c, int(dato))\n",
        "        c += 1\n",
        "      r += 1\n",
        "\n",
        "    self.generaciones = int(lineas[-1])\n",
        "    print(\"Generaciones: \", self.generaciones)\n",
        "\n",
        "    print(self.tablero.to_string())\n",
        "\n",
        "  def get_vecinos( self , r , c):\n",
        "        vecinos = []\n",
        "        for ren in range( r-1 , r+2 , 1 ):\n",
        "            for col in range(c-1 , c+2 , 1):\n",
        "                if ren < 0 or ren >= self.tablero.get_row_size() or col < 0 or col >= self.tablero.get_col_size() or (ren==r and col==c):\n",
        "                    pass\n",
        "                else:\n",
        "                    vecinos.append((ren,col))\n",
        "        return vecinos\n",
        "\n",
        "    def get_vecinos_vivos(self, r, c):\n",
        "        vecinos = self.get_vecinos\n",
        "        vivos = 0\n",
        "        for par in vecinos: \n",
        "            if self.tablero.get_item(par[0], par[1]) == 1:\n",
        "                vivos +=1\n",
        "        return vivos\n",
        "\n",
        "\n",
        "    def calcular_siguiente(self):\n",
        "        nueva_gen = Array2DADT(self.rens, self.cols)\n",
        "        #Aplicar reglas a cada celula y el resultado ponerlo en nueva_gen\n",
        "        for ren in range(self.rens):\n",
        "            for col in range(self.cols):\n",
        "                print(f\"{ren}, {col} --> {self.get_vecinos_vivos(ren, col)}\")\n",
        "\n",
        "\n",
        "\n",
        "        self.tablero = nueva_gen\n",
        "\n"
      ],
      "execution_count": 29,
      "outputs": [
        {
          "output_type": "error",
          "ename": "IndentationError",
          "evalue": "ignored",
          "traceback": [
            "\u001b[0;36m  File \u001b[0;32m\"<ipython-input-29-54f394ded64c>\"\u001b[0;36m, line \u001b[0;32m61\u001b[0m\n\u001b[0;31m    def get_vecinos_vivos(self, r, c):\u001b[0m\n\u001b[0m                                      ^\u001b[0m\n\u001b[0;31mIndentationError\u001b[0m\u001b[0;31m:\u001b[0m unindent does not match any outer indentation level\n"
          ]
        }
      ]
    },
    {
      "cell_type": "code",
      "metadata": {
        "id": "r39k4yDktljf"
      },
      "source": [
        ""
      ],
      "execution_count": null,
      "outputs": []
    },
    {
      "cell_type": "code",
      "metadata": {
        "colab": {
          "base_uri": "https://localhost:8080/",
          "height": 306
        },
        "id": "OvYSTgroW1s4",
        "outputId": "8b7d9334-316c-42e1-f9d2-77e6dae1c0ac"
      },
      "source": [
        "juego = JuegoDeLaVida(\"entrada.txt\")"
      ],
      "execution_count": 27,
      "outputs": [
        {
          "output_type": "error",
          "ename": "AttributeError",
          "evalue": "ignored",
          "traceback": [
            "\u001b[0;31m---------------------------------------------------------------------------\u001b[0m",
            "\u001b[0;31mAttributeError\u001b[0m                            Traceback (most recent call last)",
            "\u001b[0;32m<ipython-input-27-fa451e3c589a>\u001b[0m in \u001b[0;36m<module>\u001b[0;34m()\u001b[0m\n\u001b[0;32m----> 1\u001b[0;31m \u001b[0mjuego\u001b[0m \u001b[0;34m=\u001b[0m \u001b[0mJuegoDeLaVida\u001b[0m\u001b[0;34m(\u001b[0m\u001b[0;34m\"entrada.txt\"\u001b[0m\u001b[0;34m)\u001b[0m\u001b[0;34m\u001b[0m\u001b[0;34m\u001b[0m\u001b[0m\n\u001b[0m",
            "\u001b[0;32m<ipython-input-26-0d0509dc975f>\u001b[0m in \u001b[0;36m__init__\u001b[0;34m(self, ruta_archivo)\u001b[0m\n\u001b[1;32m     23\u001b[0m     \u001b[0mself\u001b[0m\u001b[0;34m.\u001b[0m\u001b[0mtablero\u001b[0m \u001b[0;34m=\u001b[0m \u001b[0;32mNone\u001b[0m\u001b[0;34m\u001b[0m\u001b[0;34m\u001b[0m\u001b[0m\n\u001b[1;32m     24\u001b[0m     \u001b[0mself\u001b[0m\u001b[0;34m.\u001b[0m\u001b[0mgeneraciones\u001b[0m \u001b[0;34m=\u001b[0m \u001b[0;32mNone\u001b[0m\u001b[0;34m\u001b[0m\u001b[0;34m\u001b[0m\u001b[0m\n\u001b[0;32m---> 25\u001b[0;31m     \u001b[0mself\u001b[0m\u001b[0;34m.\u001b[0m\u001b[0mread_game_data\u001b[0m\u001b[0;34m(\u001b[0m\u001b[0mruta_archivo\u001b[0m\u001b[0;34m)\u001b[0m\u001b[0;34m\u001b[0m\u001b[0;34m\u001b[0m\u001b[0m\n\u001b[0m\u001b[1;32m     26\u001b[0m \u001b[0;34m\u001b[0m\u001b[0m\n\u001b[1;32m     27\u001b[0m   \u001b[0;32mdef\u001b[0m \u001b[0mread_game_data\u001b[0m \u001b[0;34m(\u001b[0m\u001b[0mself\u001b[0m\u001b[0;34m,\u001b[0m \u001b[0marchivo\u001b[0m\u001b[0;34m)\u001b[0m\u001b[0;34m:\u001b[0m\u001b[0;34m\u001b[0m\u001b[0;34m\u001b[0m\u001b[0m\n",
            "\u001b[0;32m<ipython-input-26-0d0509dc975f>\u001b[0m in \u001b[0;36mread_game_data\u001b[0;34m(self, archivo)\u001b[0m\n\u001b[1;32m     27\u001b[0m   \u001b[0;32mdef\u001b[0m \u001b[0mread_game_data\u001b[0m \u001b[0;34m(\u001b[0m\u001b[0mself\u001b[0m\u001b[0;34m,\u001b[0m \u001b[0marchivo\u001b[0m\u001b[0;34m)\u001b[0m\u001b[0;34m:\u001b[0m\u001b[0;34m\u001b[0m\u001b[0;34m\u001b[0m\u001b[0m\n\u001b[1;32m     28\u001b[0m     \u001b[0marcivo\u001b[0m \u001b[0;34m=\u001b[0m \u001b[0mopen\u001b[0m\u001b[0;34m(\u001b[0m\u001b[0marchivo\u001b[0m\u001b[0;34m,\u001b[0m \u001b[0;34m'rt'\u001b[0m\u001b[0;34m)\u001b[0m\u001b[0;34m\u001b[0m\u001b[0;34m\u001b[0m\u001b[0m\n\u001b[0;32m---> 29\u001b[0;31m     \u001b[0mlineas\u001b[0m \u001b[0;34m=\u001b[0m \u001b[0marchivo\u001b[0m\u001b[0;34m.\u001b[0m\u001b[0mreadlines\u001b[0m\u001b[0;34m(\u001b[0m\u001b[0;34m)\u001b[0m\u001b[0;34m\u001b[0m\u001b[0;34m\u001b[0m\u001b[0m\n\u001b[0m\u001b[1;32m     30\u001b[0m     \u001b[0;32mfor\u001b[0m \u001b[0mindex\u001b[0m \u001b[0;32min\u001b[0m \u001b[0mrange\u001b[0m\u001b[0;34m(\u001b[0m\u001b[0mlen\u001b[0m\u001b[0;34m(\u001b[0m\u001b[0mlineas\u001b[0m\u001b[0;34m)\u001b[0m\u001b[0;34m)\u001b[0m\u001b[0;34m:\u001b[0m\u001b[0;34m\u001b[0m\u001b[0;34m\u001b[0m\u001b[0m\n\u001b[1;32m     31\u001b[0m       \u001b[0mlineas\u001b[0m\u001b[0;34m[\u001b[0m\u001b[0mindex\u001b[0m\u001b[0;34m]\u001b[0m \u001b[0;34m=\u001b[0m \u001b[0mlineas\u001b[0m\u001b[0;34m[\u001b[0m\u001b[0mindex\u001b[0m\u001b[0;34m]\u001b[0m\u001b[0;34m.\u001b[0m\u001b[0mstrip\u001b[0m\u001b[0;34m(\u001b[0m\u001b[0;34m)\u001b[0m\u001b[0;34m\u001b[0m\u001b[0;34m\u001b[0m\u001b[0m\n",
            "\u001b[0;31mAttributeError\u001b[0m: 'str' object has no attribute 'readlines'"
          ]
        }
      ]
    }
  ]
}